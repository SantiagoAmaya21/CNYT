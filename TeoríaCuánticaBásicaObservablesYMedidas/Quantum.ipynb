{
 "cells": [
  {
   "cell_type": "markdown",
   "metadata": {},
   "source": [
    "# Basic Quantum Theory, Observables and Measurements"
   ]
  },
  {
   "cell_type": "markdown",
   "metadata": {},
   "source": [
    "### Simule el primer sistema cuántico descrito en la sección 4.1.\n",
    "\n",
    "El sistema consiste en una partícula confinada a un conjunto discreto de posiciones en una línea. El simulador debe permitir especificar el número de posiciones y un vector ket de estado asignando las amplitudes.\n",
    "\n",
    "1. El sistema debe calcular la probabilidad de encontrarlo en una posición en particular.\n",
    "\n",
    "2. El sistema si se le da otro vector Ket debe buscar la probabilidad de transitar del primer vector al segundo."
   ]
  },
  {
   "cell_type": "code",
   "execution_count": 2,
   "metadata": {},
   "outputs": [
    {
     "name": "stdout",
     "output_type": "stream",
     "text": [
      "Probability of finding the particle at position x2 in [-3.-1.j  0.-2.j  0.-1.j  2.+0.j]: 0.05263157894736842\n",
      "Transition probability from [-3.-1.j  0.-2.j  0.-1.j  2.+0.j] to [ 1.+1.j  0.+1.j  2.+4.j -1.+3.j]: 0.28708133971291866\n"
     ]
    }
   ],
   "source": [
    "import numpy as np\n",
    "\n",
    "def observable_probability(state_vector, target_position):\n",
    "    total_amplitude = np.sum(np.abs(state_vector) ** 2)\n",
    "    \n",
    "    if target_position in state_vector:\n",
    "        return (np.abs(target_position) ** 2) / total_amplitude\n",
    "    \n",
    "    return None\n",
    "\n",
    "def transition_probability(state1, state2):\n",
    "    normalized_state1 = normalize_vector(state1)\n",
    "    normalized_state2 = normalize_vector(state2)\n",
    "    bra = normalized_state1.T.conj()\n",
    "    inner_product = np.dot(bra, normalized_state2)\n",
    "    \n",
    "    return np.abs(inner_product) ** 2\n",
    "\n",
    "def normalize_vector(vector):\n",
    "    norm = np.linalg.norm(vector)\n",
    "    return vector / norm\n",
    "\n",
    "def quantum_experiment():\n",
    "    psi = np.array([complex(-3, -1), complex(0, -2), complex(0, -1), 2])\n",
    "    x_2 = complex(0, -1)\n",
    "    print(f\"Probability of finding the particle at position x2 in {psi}: {observable_probability(psi, x_2)}\")\n",
    "\n",
    "    phi = np.array([complex(1, 1), complex(0, 1), complex(2, 4), complex(-1, 3)])\n",
    "    print(f\"Transition probability from {psi} to {phi}: {transition_probability(psi, phi)}\")\n",
    "\n",
    "quantum_experiment()\n"
   ]
  },
  {
   "cell_type": "markdown",
   "metadata": {},
   "source": [
    "### Complete los retos de programación del capítulo 4."
   ]
  },
  {
   "cell_type": "markdown",
   "metadata": {},
   "source": [
    "1. Amplitud de transición. El sistema puede recibir dos vectores y calcular la probabilidad de transitar de el uno al otro después de hacer la observación"
   ]
  },
  {
   "cell_type": "code",
   "execution_count": 1,
   "metadata": {},
   "outputs": [
    {
     "name": "stdout",
     "output_type": "stream",
     "text": [
      "The probability of transitioning is: 1.0000000000000004\n"
     ]
    }
   ],
   "source": [
    "import numpy as np\n",
    "\n",
    "def compute_transition_amplitude(state1, state2):\n",
    "    normalized_state1 = normalize_vector(state1)\n",
    "    normalized_state2 = normalize_vector(state2)\n",
    "    bra = normalized_state1.T.conj()\n",
    "    return np.dot(bra, normalized_state2)\n",
    "\n",
    "def normalize_vector(vector):\n",
    "    norm = np.linalg.norm(vector)\n",
    "    return vector / norm\n",
    "\n",
    "def compute_transition_probability(state1, state2):\n",
    "    return np.abs(compute_transition_amplitude(state1, state2)) ** 2\n",
    "\n",
    "def quantum_example():\n",
    "    psi = (np.sqrt(2) / 2) * np.array([1, complex(0, 1)])\n",
    "    phi = (np.sqrt(2) / 2) * np.array([complex(0, 1), -1])\n",
    "    \n",
    "    print(f\"The probability of transitioning is: {compute_transition_probability(psi, phi)}\")\n",
    "\n",
    "quantum_example()\n"
   ]
  },
  {
   "cell_type": "markdown",
   "metadata": {},
   "source": [
    "2. Ahora con una matriz que describa un observable y un vector ket, el sistema revisa que la matriz sea hermitiana, y si lo es, calcula la media y la varianza del observable en el estado dado."
   ]
  },
  {
   "cell_type": "code",
   "execution_count": 3,
   "metadata": {},
   "outputs": [
    {
     "name": "stdout",
     "output_type": "stream",
     "text": [
      "The expected value from omega and ket is: (2.5000000000000004+0j). And the variance is: (0.25+0j)\n"
     ]
    }
   ],
   "source": [
    "import numpy as np\n",
    "\n",
    "def is_hermitian(matrix):\n",
    "    return np.allclose(matrix, np.array(matrix).T.conj())\n",
    "\n",
    "def compute_expected_value(observable, ket):\n",
    "    return np.dot(np.dot(observable, ket), np.array(ket).T.conj())\n",
    "\n",
    "def compute_variance(observable, ket):\n",
    "    delta_operator = observable - (compute_expected_value(observable, ket) * np.eye(len(observable)))\n",
    "    return np.dot(np.array(ket).T.conj(), np.dot(np.dot(delta_operator, delta_operator), ket))\n",
    "\n",
    "def quantum_analysis():\n",
    "    omega = np.array([[1, complex(0, -1)], [complex(0, 1), 2]])\n",
    "    ket = np.array([np.sqrt(2)/2, complex(0, np.sqrt(2)/2)])\n",
    "    \n",
    "    if is_hermitian(omega):\n",
    "        value = compute_expected_value(omega, ket)\n",
    "        var = compute_variance(omega, ket)\n",
    "        print(f\"The expected value from omega and ket is: {value}. And the variance is: {var}\")\n",
    "\n",
    "quantum_analysis()\n"
   ]
  },
  {
   "cell_type": "markdown",
   "metadata": {},
   "source": [
    "3. El sistema calcula los valores propios del observable y la probabilidad de que el sistema transite a alguno de los vectores propios después de la observación."
   ]
  },
  {
   "cell_type": "code",
   "execution_count": 5,
   "metadata": {},
   "outputs": [
    {
     "name": "stdout",
     "output_type": "stream",
     "text": [
      "The eigenvalues of the observable are: [-1.41421356  1.41421356].\n",
      "The probabilities of transitioning from the eigenvectors to the ket state are: [0.8535533905932735, 0.1464466094067262]\n"
     ]
    }
   ],
   "source": [
    "import numpy as np\n",
    "\n",
    "def compute_transition_amplitude(state1, state2):\n",
    "    normalized_state1 = normalize_vector(state1)\n",
    "    normalized_state2 = normalize_vector(state2)\n",
    "    return np.dot(normalized_state1.T.conj(), normalized_state2)\n",
    "\n",
    "def normalize_vector(vector):\n",
    "    norm = np.linalg.norm(vector)\n",
    "    return vector / norm\n",
    "\n",
    "def compute_transition_probability(state1, state2):\n",
    "    return np.abs(compute_transition_amplitude(state1, state2)) ** 2\n",
    "\n",
    "def is_hermitian(matrix):\n",
    "    return np.allclose(matrix, np.array(matrix).T.conj())\n",
    "\n",
    "def compute_observable_eigenvalues(observable):\n",
    "    if is_hermitian(observable):\n",
    "        eigen_values, eigen_vectors = np.linalg.eigh(observable)\n",
    "        return eigen_values, eigen_vectors\n",
    "    return None, None\n",
    "\n",
    "def compute_eigenvalues_probabilities(eigen_vectors, ket):\n",
    "    return [compute_transition_probability(vector, ket) for vector in eigen_vectors] if eigen_vectors is not None else []\n",
    "\n",
    "def quantum_example():\n",
    "    observable = np.array([[-1, complex(0,-1)], [complex(0,1), 1]])\n",
    "    ket = (1/2) * np.array([1, 1])\n",
    "    eigen_values, eigen_vectors = compute_observable_eigenvalues(observable)\n",
    "    probabilities = compute_eigenvalues_probabilities(eigen_vectors, ket)\n",
    "    \n",
    "    print(f\"The eigenvalues of the observable are: {eigen_values}.\")\n",
    "    print(f\"The probabilities of transitioning from the eigenvectors to the ket state are: {list(map(float, probabilities))}\")\n",
    "\n",
    "quantum_example()\n"
   ]
  },
  {
   "cell_type": "markdown",
   "metadata": {},
   "source": [
    "4. Se considera la dinámica del sistema. Ahora con una serie de matrices Un el sistema calcula el estado final a partir de un estado inicial."
   ]
  },
  {
   "cell_type": "code",
   "execution_count": 6,
   "metadata": {},
   "outputs": [
    {
     "name": "stdout",
     "output_type": "stream",
     "text": [
      "The final state of the system is: ['1.4142135623730951', '2.8284271247461903 + 1.4142135623730951j', '-2.8284271247461903 - 1.4142135623730951j', '-1.4142135623730951']\n"
     ]
    }
   ],
   "source": [
    "import numpy as np\n",
    "\n",
    "def apply_dynamics(unitary_transformations, initial_state):\n",
    "    final_state = initial_state\n",
    "    for transformation in unitary_transformations:\n",
    "        final_state = np.dot(transformation, final_state)\n",
    "    return final_state\n",
    "\n",
    "def format_complex_numbers(vector):\n",
    "    return [f\"{num.real} + {num.imag}j\" if num.imag > 0 else f\"{num.real}\" if num.imag == 0 else f\"{num.real} - {-num.imag}j\" for num in vector]\n",
    "\n",
    "def quantum_evolution():\n",
    "    initial_state = np.array([1, 0, 0, 0])\n",
    "    transformation1 = (1 * np.sqrt(2)) * np.array([[0, 1, 1, 0],\n",
    "                                                    [complex(0, 1), 0, 0, 1],\n",
    "                                                    [1, 0, 0, complex(0, 1)],\n",
    "                                                    [0, 1, -1, 0]])\n",
    "    transformation2 = np.array([[0, 1, complex(1, -1), -1],\n",
    "                                [-1, complex(1, -1), 1, 0],\n",
    "                                [1, complex(-1, 1), -1, 0],\n",
    "                                [0, -1, complex(-1, 1), 1]])\n",
    "    transformations = [transformation1, transformation2]\n",
    "    final_state = apply_dynamics(transformations, initial_state)\n",
    "    \n",
    "    print(f\"The final state of the system is: {format_complex_numbers(final_state)}\")\n",
    "\n",
    "quantum_evolution()\n"
   ]
  },
  {
   "cell_type": "markdown",
   "metadata": {},
   "source": [
    "### Realice los siguientes problemas e incluyalos como ejemplos\n",
    "Modele en su librería los problemas"
   ]
  },
  {
   "cell_type": "markdown",
   "metadata": {},
   "source": [
    "4.3.1. Find all the possible states the system described in Exercise 4.2.2\n",
    "can transition into after a measurement has been carried out."
   ]
  },
  {
   "cell_type": "code",
   "execution_count": 7,
   "metadata": {},
   "outputs": [
    {
     "name": "stdout",
     "output_type": "stream",
     "text": [
      "The probability of transitioning from [0 1] to [-0.70710678  0.70710678] is: 0.5000000000000001\n",
      "The probability of transitioning from [0 1] to [0.70710678 0.70710678] is: 0.5000000000000001\n"
     ]
    }
   ],
   "source": [
    "import numpy as np\n",
    "\n",
    "def normalize(array):\n",
    "    norm = np.linalg.norm(array) \n",
    "    return array / norm\n",
    "\n",
    "def transition_amplitude(first_array, second_array):\n",
    "    first_array_normalized = np.array(normalize(first_array))\n",
    "    second_array_normalized = np.array(normalize(second_array))\n",
    "    bra = first_array_normalized.T.conj()\n",
    "    return np.dot(bra, second_array_normalized)\n",
    "\n",
    "def transition_probability(first_array, second_array):\n",
    "    return np.abs(transition_amplitude(first_array, second_array)) ** 2\n",
    "\n",
    "def is_hermitian(matrix):\n",
    "    return np.allclose(matrix, np.array(matrix).T.conj())\n",
    "\n",
    "def observable_eigen_values(observable):\n",
    "    if is_hermitian(observable):\n",
    "        return np.linalg.eigh(observable)\n",
    "    return None, None\n",
    "\n",
    "def calculate_transition_probabilities(initial_state, eigen_vectors):\n",
    "    return [transition_probability(initial_state, vec) for vec in eigen_vectors]\n",
    "\n",
    "def quantum_spin_transition():\n",
    "    spin_up = np.array([1, 0])\n",
    "    Sx = np.array([[0, 1], [1, 0]])\n",
    "    transformed_state = np.dot(Sx, spin_up)\n",
    "    eigen_values, eigen_vectors = observable_eigen_values(Sx)\n",
    "\n",
    "    if eigen_vectors is not None:\n",
    "        probabilities = list(map(float, calculate_transition_probabilities(transformed_state, eigen_vectors)))\n",
    "        for vec, prob in zip(eigen_vectors.T, probabilities):\n",
    "            print(f\"The probability of transitioning from {transformed_state} to {vec} is: {prob}\")\n",
    "\n",
    "quantum_spin_transition()\n"
   ]
  },
  {
   "cell_type": "markdown",
   "metadata": {},
   "source": [
    "4.3.2 Perform the same calculations as in the last example, using Exercise 4.3.1. Then draw the probability distribution of the eigenvalues as in the previous example."
   ]
  },
  {
   "cell_type": "code",
   "execution_count": 8,
   "metadata": {},
   "outputs": [
    {
     "data": {
      "image/png": "[encoded data removed]",
      "text/plain": [
       "<Figure size 640x480 with 1 Axes>"
      ]
     },
     "metadata": {},
     "output_type": "display_data"
    }
   ],
   "source": [
    "import numpy as np\n",
    "import matplotlib.pyplot as plt\n",
    "\n",
    "def normalize(array):\n",
    "    norm = np.linalg.norm(array)\n",
    "    return array / norm\n",
    "\n",
    "def transition_amplitude(first_array, second_array):\n",
    "    first_array_normalized = normalize(first_array)\n",
    "    second_array_normalized = normalize(second_array)\n",
    "    bra = first_array_normalized.T.conj()\n",
    "    return np.dot(bra, second_array_normalized)\n",
    "\n",
    "def transition_probability(first_array, second_array):\n",
    "    return np.abs(transition_amplitude(first_array, second_array)) ** 2\n",
    "\n",
    "def is_hermitian(matrix):\n",
    "    return np.allclose(matrix, np.array(matrix).T.conj())\n",
    "\n",
    "def observable_eigen_values(observable):\n",
    "    if is_hermitian(observable):\n",
    "        return np.linalg.eigh(observable)\n",
    "    return None, None\n",
    "\n",
    "def calculate_transition_probabilities(initial_state, eigen_vectors):\n",
    "    return [transition_probability(initial_state, vec) for vec in eigen_vectors.T]\n",
    "\n",
    "def plot_eigenvalue_probabilities(eigen_values, probabilities):\n",
    "    plt.bar(range(len(eigen_values)), probabilities, tick_label=[f\"{val:.2f}\" for val in eigen_values])\n",
    "    plt.xlabel(\"Eigenvalues\")\n",
    "    plt.ylabel(\"Transition Probability\")\n",
    "    plt.title(\"Transition Probabilities for Eigenstates\")\n",
    "    plt.show()\n",
    "\n",
    "def quantum_spin_transition():\n",
    "    spin_up = np.array([1, 0])\n",
    "    Sx = np.array([[0, 1], [1, 0]])\n",
    "    transformed_state = np.dot(Sx, spin_up)\n",
    "    eigen_values, eigen_vectors = observable_eigen_values(Sx)\n",
    "\n",
    "    if eigen_vectors is not None:\n",
    "        probabilities = list(map(float, calculate_transition_probabilities(transformed_state, eigen_vectors)))\n",
    "        plot_eigenvalue_probabilities(eigen_values, probabilities)\n",
    "\n",
    "quantum_spin_transition()\n"
   ]
  },
  {
   "cell_type": "markdown",
   "metadata": {},
   "source": [
    "4.4.1. Verify that\n",
    "$$ U_1 =\n",
    "\\begin{pmatrix}\n",
    "0 & 1 \\\\\n",
    "1 & 0\n",
    "\\end{pmatrix} \\quad \\text{and} \\quad\n",
    "U_2 =\n",
    "\\begin{pmatrix}\n",
    "\\frac{\\sqrt{2}}{2} & \\frac{\\sqrt{2}}{2} \\\\\n",
    "\\frac{\\sqrt{2}}{2} & -\\frac{\\sqrt{2}}{2}\n",
    "\\end{pmatrix} $$\n",
    "are unitary matrices. Multiply them and verify that their product is also unitary.\n",
    "\n"
   ]
  },
  {
   "cell_type": "code",
   "execution_count": 10,
   "metadata": {},
   "outputs": [
    {
     "name": "stdout",
     "output_type": "stream",
     "text": [
      "U1 = [[0, 1], [1, 0]] is unitary.\n",
      "U2 = [[0.7071067811865476, 0.7071067811865476], [0.7071067811865476, -0.7071067811865476]] is unitary.\n",
      "U1 * U2 = [[0.7071067811865476, -0.7071067811865476], [0.7071067811865476, 0.7071067811865476]] is unitary.\n"
     ]
    }
   ],
   "source": [
    "import numpy as np\n",
    "\n",
    "def is_unitary(matrix):\n",
    "    matrix = np.array(matrix)\n",
    "    return np.allclose(np.dot(matrix.T.conj(), matrix), np.eye(matrix.shape[0]))\n",
    "\n",
    "def format_matrix(matrix):\n",
    "    return \"[\" + \", \".join([\"[\" + \", \".join(map(str, row)) + \"]\" for row in matrix]) + \"]\"\n",
    "\n",
    "def main():\n",
    "    U1 = np.array([[0, 1],\n",
    "                   [1, 0]])\n",
    "    \n",
    "    U2 = (np.sqrt(2) / 2) * np.array([[1, 1],\n",
    "                                      [1, -1]])\n",
    "    \n",
    "    multiplication = np.dot(U1, U2)\n",
    "    matrices = [(\"U1\", U1), (\"U2\", U2), (\"U1 * U2\", multiplication)]\n",
    "\n",
    "    for name, matrix in matrices:\n",
    "        status = \"unitary\" if is_unitary(matrix) else \"not unitary\"\n",
    "        print(f\"{name} = {format_matrix(matrix)} is {status}.\")\n",
    "\n",
    "main()\n"
   ]
  },
  {
   "cell_type": "markdown",
   "metadata": {},
   "source": [
    "4.4.2. Go back to Example 3.3.2 (quantum billiard ball), keep the same\n",
    "initial state vector [1, 0, 0, 0]T, but change the unitary map to\n",
    "\\begin{pmatrix}\n",
    "0 & \\frac{1}{\\sqrt{2}} & \\frac{1}{\\sqrt{2}} & 0\\\\\n",
    "\\frac{i}{\\sqrt{2}} & 0 & 0 & \\frac{1}{\\sqrt{2}}\\\\\n",
    "\\frac{1}{\\sqrt{2}} & 0 & 0 & \\frac{i}{\\sqrt{2}}\\\\\n",
    "0 & \\frac{1}{\\sqrt{2}} & -\\frac{1}{\\sqrt{2}} & 0\n",
    "\\end{pmatrix}\n",
    "\n",
    "Determine the state of the system after three time steps. What is the chance of\n",
    "the quantum ball to be found at point 3"
   ]
  },
  {
   "cell_type": "code",
   "execution_count": 12,
   "metadata": {},
   "outputs": [
    {
     "name": "stdout",
     "output_type": "stream",
     "text": [
      "The probability of finding the quantum ball at point 3 is: 0.000000\n"
     ]
    }
   ],
   "source": [
    "import numpy as np\n",
    "\n",
    "def ket_norm(array):\n",
    "    return np.sum(np.abs(array) ** 2)\n",
    "\n",
    "def normalize(array):\n",
    "    norm = np.linalg.norm(array)\n",
    "    return array / norm if norm != 0 else array\n",
    "\n",
    "def position_probability(array, position):\n",
    "    return (np.abs(array[position]) ** 2) / ket_norm(array)\n",
    "\n",
    "def main():\n",
    "    A = np.array([[0, 1/np.sqrt(2), 1/np.sqrt(2), 0], \n",
    "                  [complex(0, 1)/np.sqrt(2), 0, 0, 1/np.sqrt(2)], \n",
    "                  [1/np.sqrt(2), 0, 0, complex(0, 1)/np.sqrt(2)],\n",
    "                  [0, 1/np.sqrt(2), -1/np.sqrt(2), 0]])\n",
    "    \n",
    "    initial_state = np.array([1, 0, 0, 0])\n",
    "    \n",
    "   \n",
    "    final_state = np.linalg.matrix_power(A, 3) @ initial_state\n",
    "    \n",
    "    \n",
    "    probability = position_probability(normalize(final_state), 2)\n",
    "    \n",
    "    print(f\"The probability of finding the quantum ball at point 3 is: {probability:.6f}\")\n",
    "\n",
    "main()\n"
   ]
  }
 ],
 "metadata": {
  "kernelspec": {
   "display_name": "Python 3",
   "language": "python",
   "name": "python3"
  },
  "language_info": {
   "codemirror_mode": {
    "name": "ipython",
    "version": 3
   },
   "file_extension": ".py",
   "mimetype": "text/x-python",
   "name": "python",
   "nbconvert_exporter": "python",
   "pygments_lexer": "ipython3",
   "version": "3.12.6"
  }
 },
 "nbformat": 4,
 "nbformat_minor": 2
}
