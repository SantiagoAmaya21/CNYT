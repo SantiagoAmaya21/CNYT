{
 "cells": [
  {
   "cell_type": "markdown",
   "metadata": {},
   "source": [
    "# Basic Quantum Theory, Observables and Measurements"
   ]
  },
  {
   "cell_type": "markdown",
   "metadata": {},
   "source": [
    "### Simule el primer sistema cuántico descrito en la sección 4.1.\n",
    "\n",
    "El sistema consiste en una partícula confinada a un conjunto discreto de posiciones en una línea. El simulador debe permitir especificar el número de posiciones y un vector ket de estado asignando las amplitudes.\n",
    "\n",
    "1. El sistema debe calcular la probabilidad de encontrarlo en una posición en particular.\n",
    "\n",
    "2. El sistema si se le da otro vector Ket debe buscar la probabilidad de transitar del primer vector al segundo."
   ]
  },
  {
   "cell_type": "code",
   "execution_count": 106,
   "metadata": {},
   "outputs": [
    {
     "name": "stdout",
     "output_type": "stream",
     "text": [
      "The probability that the particle can be found at position x2 in the following array [-3.-1.j  0.-2.j  0.-1.j  2.+0.j] is: 0.05263157894736842\n",
      "Lets say that the vector [-3.-1.j  0.-2.j  0.-1.j  2.+0.j] needs to transition to the vector [ 1.+1.j  0.+1.j  2.+4.j -1.+3.j], the probability of transitioning is: 0.28708133971291866\n"
     ]
    }
   ],
   "source": [
    "import numpy as np\n",
    "\n",
    "def observable_probability(array = [], position = 0):\n",
    "    is_in_array = False\n",
    "    amplitude = 0\n",
    "    for elements in array:\n",
    "        amplitude += np.abs(elements) ** 2\n",
    "        if elements == position:\n",
    "            is_in_array = True\n",
    "    if is_in_array:\n",
    "        return (np.abs(position) ** 2) / amplitude\n",
    "    return None\n",
    "\n",
    "def transition(first_array=[], second_array=[]):\n",
    "    first_array_normalized = np.array(normalize(first_array))\n",
    "    second_array_normalized = np.array(normalize(second_array))\n",
    "    bra = first_array_normalized.T.conj()\n",
    "    inner_product = np.dot(bra, second_array_normalized)\n",
    "    return np.abs(inner_product) ** 2\n",
    "\n",
    "def normalize(array=[]):\n",
    "    norm = np.linalg.norm(array) \n",
    "    return array / norm\n",
    "\n",
    "def programming_drill(): #Programming Drill 4.1.1 from the book Quantum Computing for Computer Scientists\n",
    "    psi = np.array([complex(-3,-1), complex(0, -2), complex(0, -1), 2])\n",
    "    x_2 = complex(0, -1)\n",
    "    print(f\"The probability that the particle can be found at position x2 in the following array {psi} is: {observable_probability(psi, x_2)}\")\n",
    "    phi = np.array([complex(1, 1), complex(0, 1), complex(2, 4), complex(-1, 3)])\n",
    "    print(f\"Lets say that the vector {psi} needs to transition to the vector {phi}, the probability of transitioning is: {transition(psi, phi)}\")\n",
    "\n",
    "programming_drill()"
   ]
  },
  {
   "cell_type": "markdown",
   "metadata": {},
   "source": [
    "### Complete los retos de programación del capítulo 4."
   ]
  },
  {
   "cell_type": "markdown",
   "metadata": {},
   "source": [
    "1. Amplitud de transición. El sistema puede recibir dos vectores y calcular la probabilidad de transitar de el uno al otro después de hacer la observación"
   ]
  },
  {
   "cell_type": "code",
   "execution_count": 105,
   "metadata": {},
   "outputs": [
    {
     "name": "stdout",
     "output_type": "stream",
     "text": [
      "The probability of transitioning is: 1.0000000000000004\n"
     ]
    }
   ],
   "source": [
    "import numpy as np\n",
    "\n",
    "def transition_amplitude(first_array=[], second_array=[]):\n",
    "    first_array_normalized = np.array(normalize(first_array))\n",
    "    second_array_normalized = np.array(normalize(second_array))\n",
    "    bra = first_array_normalized.T.conj()\n",
    "    inner_product = np.dot(bra, second_array_normalized)\n",
    "    return inner_product\n",
    "\n",
    "def normalize(array=[]):\n",
    "    norm = np.linalg.norm(array) \n",
    "    return array / norm\n",
    "\n",
    "def transition_probability(first_array=[], second_array=[]):\n",
    "    return np.abs(transition_amplitude(first_array, second_array)) ** 2\n",
    "\n",
    "def main(): #Example 4.1.6 from the book Quantum Computing for Computer Scientists\n",
    "    psi = (np.sqrt(2) / 2) * np.array([1, complex(0, 1)])\n",
    "    phi = (np.sqrt(2) / 2) * np.array([complex(0, 1), -1])\n",
    "    print(f\"The probability of transitioning is: {transition_probability(psi, phi)}\")\n",
    "\n",
    "main()"
   ]
  },
  {
   "cell_type": "markdown",
   "metadata": {},
   "source": [
    "2. Ahora con una matriz que describa un observable y un vector ket, el sistema revisa que la matriz sea hermitiana, y si lo es, calcula la media y la varianza del observable en el estado dado."
   ]
  },
  {
   "cell_type": "code",
   "execution_count": 104,
   "metadata": {},
   "outputs": [
    {
     "name": "stdout",
     "output_type": "stream",
     "text": [
      "The expected value from omega and ket is: (2.5000000000000004+0j). And the variance is: (0.25+0j)\n"
     ]
    }
   ],
   "source": [
    "import numpy as np\n",
    "\n",
    "def hermitian(matrix = []):\n",
    "    is_hermitian = np.allclose(matrix, np.array(matrix).T.conj())\n",
    "    return is_hermitian\n",
    "\n",
    "def expected_value(observable=[], ket=[]):\n",
    "    expected_value = np.dot(np.dot(observable, ket), np.array(ket).T.conj())\n",
    "    return expected_value\n",
    "\n",
    "def variance(observable=[], ket=[]):\n",
    "    delta_operator = observable - (expected_value(observable, ket) * np.eye(len(observable)))\n",
    "    variance = np.dot(np.array(ket).T.conj(), np.dot(np.dot(delta_operator, delta_operator), ket))\n",
    "    return variance\n",
    "\n",
    "def main(): #Example 4.2.7 from the book Quantum Computing for Computer Scientists\n",
    "    omega = np.array([[1, complex(0, -1)], [complex(0, 1), 2]])\n",
    "    ket = np.array([np.sqrt(2)/2, complex(0, np.sqrt(2)/2)])\n",
    "    if hermitian(omega):\n",
    "        value = expected_value(omega, ket)\n",
    "        var = variance(omega, ket)\n",
    "        print(f\"The expected value from omega and ket is: {value}. And the variance is: {var}\")\n",
    "\n",
    "main()"
   ]
  },
  {
   "cell_type": "markdown",
   "metadata": {},
   "source": [
    "3. El sistema calcula los valores propios del observable y la probabilidad de que el sistema transite a alguno de los vectores propios después de la observación."
   ]
  },
  {
   "cell_type": "code",
   "execution_count": 103,
   "metadata": {},
   "outputs": [
    {
     "name": "stdout",
     "output_type": "stream",
     "text": [
      "The eigenvalues of the observable are: [-1.41421356  1.41421356]. And the probabilities of transitioning from the eigenvectors to the ket state are: [0.8535533905932735, 0.1464466094067262]\n"
     ]
    }
   ],
   "source": [
    "import numpy as np\n",
    "\n",
    "def transition_amplitude(first_array=[], second_array=[]):\n",
    "    first_array_normalized = np.array(normalize(first_array))\n",
    "    second_array_normalized = np.array(normalize(second_array))\n",
    "    bra = first_array_normalized.T.conj()\n",
    "    inner_product = np.dot(bra, second_array_normalized)\n",
    "    return inner_product\n",
    "\n",
    "def normalize(array=[]):\n",
    "    norm = np.linalg.norm(array) \n",
    "    return array / norm\n",
    "\n",
    "def transition_probability(first_array=[], second_array=[]):\n",
    "    return np.abs(transition_amplitude(first_array, second_array)) ** 2\n",
    "\n",
    "def hermitian(matrix = []):\n",
    "    is_hermitian = np.allclose(matrix, np.array(matrix).T.conj())\n",
    "    return is_hermitian\n",
    "\n",
    "def observable_eigen_values(observable=[]):\n",
    "    if hermitian(observable):\n",
    "        eigen_values, eigen_vectors = np.linalg.eigh(observable)\n",
    "        return eigen_values, eigen_vectors\n",
    "    return None, None\n",
    "\n",
    "def eigen_values_probabilities(eigen_vectors=[], ket=[]):\n",
    "    probabilities = []\n",
    "    if eigen_vectors is not None:\n",
    "        for element in eigen_vectors:\n",
    "            probabilities.append(transition_probability(element, ket))\n",
    "    return probabilities\n",
    "\n",
    "def main(): #Example 4.3.1 from the book Quantum Computing for Computer Scientists\n",
    "    observable = np.array([[-1, complex(0,-1)],[complex(0,1), 1]])\n",
    "    ket = (1/2) *  np.array([1, 1])\n",
    "    eigen_values, eigen_vectors = observable_eigen_values(observable)\n",
    "    probabilities = eigen_values_probabilities(eigen_vectors, ket)\n",
    "    print(f\"The eigenvalues of the observable are: {eigen_values}. And the probabilities of transitioning from the eigenvectors to the ket state are: {list(map(float, probabilities))}\")\n",
    "\n",
    "main()"
   ]
  },
  {
   "cell_type": "markdown",
   "metadata": {},
   "source": [
    "4. Se considera la dinámica del sistema. Ahora con una serie de matrices Un el sistema calcula el estado final a partir de un estado inicial."
   ]
  },
  {
   "cell_type": "code",
   "execution_count": 102,
   "metadata": {},
   "outputs": [
    {
     "name": "stdout",
     "output_type": "stream",
     "text": [
      "The final state of the System is: ['1.4142135623730951', '2.8284271247461903 + 1.4142135623730951j', '-2.8284271247461903 - 1.4142135623730951j', '-1.4142135623730951']\n"
     ]
    }
   ],
   "source": [
    "def dynamics(unitary_maps=[], ket_phi=[]):\n",
    "    ket_psi = ket_phi\n",
    "    for U in unitary_maps:\n",
    "        ket_psi = np.dot(U, ket_psi)\n",
    "    return ket_psi\n",
    "\n",
    "def main(): #Inspired by Exercise 4.2.2 from the book Quantum Computing for Computer Scientists\n",
    "    ket_phi = np.array([1,0,0,0])\n",
    "    unitary_map_1 = (1*np.sqrt(2)) * np.array([[0,1,1,0],\n",
    "                                              [complex(0,1),0,0,1],\n",
    "                                              [1,0,0,complex(0,1)],\n",
    "                                              [0,1,-1,0]])\n",
    "    unitary_map_2 = np.array([[0,1,complex(1,-1),-1],\n",
    "                             [-1,complex(1,-1),1,0],\n",
    "                             [1,complex(-1,1),-1,0],\n",
    "                             [0,-1,complex(-1,1),1]])\n",
    "    unitary_maps = [unitary_map_1, unitary_map_2]\n",
    "    final_state = [f\"{num.real} + {num.imag}j\" if num.imag > 0 else f\"{num.real}\" if num.imag==0 else f\"{num.real} - {-num.imag}j\" for num in list(dynamics(unitary_maps, ket_phi))]\n",
    "    print(f\"The final state of the System is: {final_state}\")\n",
    "\n",
    "main()"
   ]
  },
  {
   "cell_type": "markdown",
   "metadata": {},
   "source": [
    "### Realice los siguientes problemas e incluyalos como ejemplos\n",
    "Modele en su librería los problemas"
   ]
  },
  {
   "cell_type": "markdown",
   "metadata": {},
   "source": [
    "4.3.1. Find all the possible states the system described in Exercise 4.2.2\n",
    "can transition into after a measurement has been carried out."
   ]
  },
  {
   "cell_type": "code",
   "execution_count": 101,
   "metadata": {},
   "outputs": [
    {
     "name": "stdout",
     "output_type": "stream",
     "text": [
      "The probability of going from [0 1] to [-0.70710678  0.70710678] i: 0.5000000000000001\n",
      "The probability of going from [0 1] to [0.70710678 0.70710678] i: 0.5000000000000001\n"
     ]
    }
   ],
   "source": [
    "import numpy as np\n",
    "\n",
    "def transition_amplitude(first_array=[], second_array=[]):\n",
    "    first_array_normalized = np.array(normalize(first_array))\n",
    "    second_array_normalized = np.array(normalize(second_array))\n",
    "    bra = first_array_normalized.T.conj()\n",
    "    inner_product = np.dot(bra, second_array_normalized)\n",
    "    return inner_product\n",
    "\n",
    "def normalize(array=[]):\n",
    "    norm = np.linalg.norm(array) \n",
    "    return array / norm\n",
    "\n",
    "def transition_probability(first_array=[], second_array=[]):\n",
    "    return np.abs(transition_amplitude(first_array, second_array)) ** 2\n",
    "\n",
    "def hermitian(matrix = []):\n",
    "    is_hermitian = np.allclose(matrix, np.array(matrix).T.conj())\n",
    "    return is_hermitian\n",
    "\n",
    "def observable_eigen_values(observable=[]):\n",
    "    if hermitian(observable):\n",
    "        eigen_values, eigen_vectors = np.linalg.eigh(observable)\n",
    "        return eigen_values, eigen_vectors\n",
    "    return None, None\n",
    "\n",
    "def main():\n",
    "    spin_up = np.array([1,0])\n",
    "    Sx = np.array([[0,1],\n",
    "                   [1,0]])\n",
    "    initial_particle = spin_up\n",
    "    initial_particle = np.dot(Sx, initial_particle)\n",
    "    eigen_values, eigen_vectors = observable_eigen_values(Sx)\n",
    "    probabilities = []\n",
    "    for element in eigen_vectors:\n",
    "        probabilities.append(transition_probability(initial_particle, element))\n",
    "    probabilities = list(map(float, probabilities))\n",
    "    for i in range(len(eigen_vectors)):\n",
    "        print(f\"The probability of going from {initial_particle} to {eigen_vectors[i]} i: {probabilities[i]}\")\n",
    "    \n",
    "main()"
   ]
  },
  {
   "cell_type": "markdown",
   "metadata": {},
   "source": [
    "4.3.2 Perform the same calculations as in the last example, using Exercise 4.3.1. Then draw the probability distribution of the eigenvalues as in the previous example."
   ]
  },
  {
   "cell_type": "code",
   "execution_count": 100,
   "metadata": {},
   "outputs": [
    {
     "data": {
      "image/png": "[encoded data removed]",
      "text/plain": [
       "<Figure size 640x480 with 1 Axes>"
      ]
     },
     "metadata": {},
     "output_type": "display_data"
    }
   ],
   "source": [
    "import numpy as np\n",
    "import matplotlib.pyplot as plt\n",
    "\n",
    "def transition_amplitude(first_array=[], second_array=[]):\n",
    "    first_array_normalized = np.array(normalize(first_array))\n",
    "    second_array_normalized = np.array(normalize(second_array))\n",
    "    bra = first_array_normalized.T.conj()\n",
    "    inner_product = np.dot(bra, second_array_normalized)\n",
    "    return inner_product\n",
    "\n",
    "def normalize(array=[]):\n",
    "    norm = np.linalg.norm(array) \n",
    "    return array / norm\n",
    "\n",
    "def transition_probability(first_array=[], second_array=[]):\n",
    "    return np.abs(transition_amplitude(first_array, second_array)) ** 2\n",
    "\n",
    "def hermitian(matrix = []):\n",
    "    is_hermitian = np.allclose(matrix, np.array(matrix).T.conj())\n",
    "    return is_hermitian\n",
    "\n",
    "def observable_eigen_values(observable=[]):\n",
    "    if hermitian(observable):\n",
    "        eigen_values, eigen_vectors = np.linalg.eigh(observable)\n",
    "        return eigen_values, eigen_vectors\n",
    "    return None, None\n",
    "\n",
    "def plot(eigen_values=[], probabilities=[]):\n",
    "    plt.bar(range(len(eigen_values)), probabilities)\n",
    "    plt.xlabel(\"Eigenvalues\")\n",
    "    plt.ylabel(\"Transition Probability\")\n",
    "    plt.show()\n",
    "\n",
    "def main():\n",
    "    spin_up = np.array([1,0])\n",
    "    Sx = np.array([[0,1],\n",
    "                   [1,0]])\n",
    "    initial_particle = spin_up\n",
    "    initial_particle = np.dot(Sx, initial_particle)\n",
    "    eigen_values, eigen_vectors = observable_eigen_values(Sx)\n",
    "    probabilities = []\n",
    "    for element in eigen_vectors:\n",
    "        probabilities.append(transition_probability(initial_particle, element))\n",
    "    probabilities = list(map(float, probabilities))\n",
    "    plot(eigen_values, probabilities)\n",
    "    \n",
    "main()"
   ]
  },
  {
   "cell_type": "markdown",
   "metadata": {},
   "source": [
    "4.4.1. Verify that\n",
    "$$ U_1 =\n",
    "\\begin{pmatrix}\n",
    "0 & 1 \\\\\n",
    "1 & 0\n",
    "\\end{pmatrix} \\quad \\text{and} \\quad\n",
    "U_2 =\n",
    "\\begin{pmatrix}\n",
    "\\frac{\\sqrt{2}}{2} & \\frac{\\sqrt{2}}{2} \\\\\n",
    "\\frac{\\sqrt{2}}{2} & -\\frac{\\sqrt{2}}{2}\n",
    "\\end{pmatrix} $$\n",
    "are unitary matrices. Multiply them and verify that their product is also unitary.\n",
    "\n"
   ]
  },
  {
   "cell_type": "code",
   "execution_count": 124,
   "metadata": {},
   "outputs": [
    {
     "name": "stdout",
     "output_type": "stream",
     "text": [
      "[[0, 1], [1, 0]] is unitary.\n",
      "[[0.7071067811865476, 0.7071067811865476], [0.7071067811865476, -0.7071067811865476]] is unitary.\n",
      "[[0.7071067811865476, -0.7071067811865476], [0.7071067811865476, 0.7071067811865476]] is unitary.\n"
     ]
    }
   ],
   "source": [
    "import numpy as np\n",
    "\n",
    "def unitary(matrix=[]):\n",
    "    is_unitary = np.allclose(np.dot(np.array(matrix).T.conj(), np.array(matrix)), np.eye(matrix.shape[0]))\n",
    "    return is_unitary\n",
    "\n",
    "def main():\n",
    "    U1 = np.array([[0, 1],\n",
    "                   [1, 0]])\n",
    "    U2 = (np.sqrt(2)/2) * np.array([[1, 1],\n",
    "                                    [1, -1]])\n",
    "    multiplication = np.dot(U1, U2)\n",
    "    matrices=[U1,U2,multiplication]\n",
    "    for element in matrices:\n",
    "        formatted_matrix = '[' + ', '.join([f'[{\", \".join(map(str, row))}]' for row in element]) + ']'\n",
    "        if unitary(element):\n",
    "            print(f\"{formatted_matrix} is unitary.\")\n",
    "        else:\n",
    "            print(f\"{formatted_matrix} is not unitary.\")\n",
    "\n",
    "main()"
   ]
  },
  {
   "cell_type": "markdown",
   "metadata": {},
   "source": [
    "4.4.2. Go back to Example 3.3.2 (quantum billiard ball), keep the same\n",
    "initial state vector [1, 0, 0, 0]T, but change the unitary map to\n",
    "\\begin{pmatrix}\n",
    "0 & \\frac{1}{\\sqrt{2}} & \\frac{1}{\\sqrt{2}} & 0\\\\\n",
    "\\frac{i}{\\sqrt{2}} & 0 & 0 & \\frac{1}{\\sqrt{2}}\\\\\n",
    "\\frac{1}{\\sqrt{2}} & 0 & 0 & \\frac{i}{\\sqrt{2}}\\\\\n",
    "0 & \\frac{1}{\\sqrt{2}} & -\\frac{1}{\\sqrt{2}} & 0\n",
    "\\end{pmatrix}\n",
    "\n",
    "Determine the state of the system after three time steps. What is the chance of\n",
    "the quantum ball to be found at point 3"
   ]
  },
  {
   "cell_type": "code",
   "execution_count": 128,
   "metadata": {},
   "outputs": [
    {
     "name": "stdout",
     "output_type": "stream",
     "text": [
      "The probability of finding the quantum ball at point 3 is: 0.0\n"
     ]
    }
   ],
   "source": [
    "import numpy as np\n",
    "\n",
    "def ket_phi(array=[]):\n",
    "    ket_phi = 0\n",
    "    for element in array:\n",
    "        ket_phi += np.abs(element) ** 2\n",
    "    return ket_phi\n",
    "\n",
    "def normalize(array=[]):\n",
    "    norm = np.linalg.norm(array) \n",
    "    return array / norm\n",
    "\n",
    "def position_probability(array=[], position=0):\n",
    "    return (np.abs(array[position]) ** 2) / ket_phi(array)\n",
    "\n",
    "def main():\n",
    "    A = np.array([[0, 1/np.sqrt(2), 1/np.sqrt(2), 0], \n",
    "                [complex(0, 1)/np.sqrt(2), 0, 0, 1/np.sqrt(2)], \n",
    "                [1/np.sqrt(2), 0, 0, complex(0, 1)/np.sqrt(2)],\n",
    "                [0, 1/np.sqrt(2), -1/np.sqrt(2), 0]])\n",
    "    initial_state = np.array([1, 0, 0, 0])\n",
    "    click = np.dot(A, initial_state)\n",
    "    click = np.dot(A, click)\n",
    "    click = np.dot(A, click)\n",
    "    probability = position_probability(normalize(click), 2)\n",
    "    print(f\"The probability of finding the quantum ball at point 3 is: {probability}\")\n",
    "\n",
    "main()"
   ]
  }
 ],
 "metadata": {
  "kernelspec": {
   "display_name": ".venv",
   "language": "python",
   "name": "python3"
  },
  "language_info": {
   "codemirror_mode": {
    "name": "ipython",
    "version": 3
   },
   "file_extension": ".py",
   "mimetype": "text/x-python",
   "name": "python",
   "nbconvert_exporter": "python",
   "pygments_lexer": "ipython3",
   "version": "3.11.9"
  }
 },
 "nbformat": 4,
 "nbformat_minor": 2
}
